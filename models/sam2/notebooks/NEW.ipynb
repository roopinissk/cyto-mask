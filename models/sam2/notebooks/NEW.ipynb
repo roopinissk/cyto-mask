# NOTE: Importing directly from a .ipynb file is not standard Python behavior.
# For these tests to run, the 'calculate_accuracy' function definition is copied here.
# Ideally, this function would be in a separate .py file (e.g., 'accuracy_utils.py')
# and imported using 'from sam2.notebooks.accuracy_utils import calculate_accuracy'.
# The import statement below assumes such a refactoring or a special environment setup.
# from sam2.notebooks.automatic_mask_generator_example import calculate_accuracy

# --- Function Definition (Copied from the notebook for testing) ---
def calculate_accuracy(masks, binary_masks_dir):
    """
    Calculates the average Intersection over Union (IoU) between generated masks
    and corresponding binary ground truth masks.

    Args:
        masks (list): A list of dictionaries, where each dictionary represents a
                      generated mask and must contain a 'segmentation' key with a
                      boolean NumPy array.
        binary_masks_dir (str): The path to the directory containing the ground
                                truth binary mask images (PNG format). Files should
                                be named in a way that corresponds to the order
                                of masks in the `masks` list (e.g., mask_0.png, mask_1.png).

    Returns:
        float: The average IoU score across all comparable masks. Returns NaN if
               division by zero occurs for all masks (e.g., all unions are zero).
               Returns 0 if the input `masks` list is empty.
    """
    # Get the list of binary mask files, sorted to ensure order
    try:
        binary_mask_files = sorted([
            f for f in os.listdir(binary_masks_dir) if f.endswith('.png')
        ])
    except FileNotFoundError:
        print(f"Error: Binary masks directory not found: {binary_masks_dir}")
        return 0.0 # Or raise an error, depending on desired behavior

    # Initialize variables to store accuracy metrics
    total_iou = 0
    num_masks_considered = 0 # Count masks that are actually compared
    num_masks_input = len(masks)

    if num_masks_input == 0:
        return 0.0

    if len(binary_mask_files) < num_masks_input:
         # This implementation relies on matching indices, raise error if not enough files
         raise IndexError(f"Number of binary mask files ({len(binary_mask_files)}) is less than the number of generated masks ({num_masks_input}).")


    for i, mask_data in enumerate(masks):
        if 'segmentation' not in mask_data:
            print(f"Skipping mask {i} due to missing 'segmentation' key.")
            continue

        generated_mask = mask_data['segmentation']
        if not isinstance(generated_mask, np.ndarray) or generated_mask.dtype != bool:
             print(f"Skipping mask {i} due to invalid 'segmentation' type (expected boolean numpy array).")
             continue

        # Load the corresponding binary mask
        binary_mask_path = os.path.join(binary_masks_dir, binary_mask_files[i])
        binary_mask = cv2.imread(binary_mask_path, cv2.IMREAD_GRAYSCALE)

        if binary_mask is None:
            print(f"Skipping mask {i} because binary mask file could not be read: {binary_mask_path}")
            continue

        # Convert binary mask to boolean (assuming non-zero pixels are True)
        binary_mask_bool = binary_mask > 0 # Adjust threshold if needed

        # Ensure the binary mask is in the same shape as the generated mask
        if binary_mask_bool.shape != generated_mask.shape:
            print(f"Skipping mask {i} due to shape mismatch: generated {generated_mask.shape} vs binary {binary_mask_bool.shape}.")
            continue # Skip this mask

        # Calculate IoU (Intersection over Union)
        intersection = np.logical_and(generated_mask, binary_mask_bool)
        union = np.logical_or(generated_mask, binary_mask_bool)

        sum_intersection = np.sum(intersection)
        sum_union = np.sum(union)

        # Handle division by zero case (where union is 0)
        # If union is 0, intersection must also be 0. IoU is defined as 0 or 1 depending on convention.
        # Often treated as 1 if both are empty, 0 if generated is empty but binary isn't (or vice versa).
        # Here, if union is 0, it means both masks were empty in that region.
        # Let's define IoU as 1.0 in this specific case (perfect match for empty masks).
        # However, the original code calculates sum_intersection / sum_union, which gives NaN for 0/0.
        # We will replicate the original behavior which leads to NaN accumulation.
        if sum_union == 0:
            # If both masks are empty, IoU is technically undefined or 1.
            # The original code results in 0/0 -> NaN. We add NaN to total.
             iou = np.nan
        else:
            iou = sum_intersection / sum_union

        total_iou += iou
        num_masks_considered += 1 # Increment count only for masks compared

    # Calculate average IoU based on the number of *input* masks, replicating original logic
    # Note: This means skipped masks still penalize the average.
    average_iou = total_iou / num_masks_input if num_masks_input > 0 else 0
    return average_iou

# --- Test Class ---
class TestCalculateAccuracy(unittest.TestCase):

    def setUp(self):
        """Set up a temporary directory for binary mask files."""
        self.temp_dir = tempfile.TemporaryDirectory()
        self.temp_dir_path = self.temp_dir.name

    def tearDown(self):
        """Clean up the temporary directory."""
        self.temp_dir.cleanup()

    def _create_binary_mask(self, filename, mask_array):
        """Helper to save a boolean numpy array as a grayscale PNG mask."""
        # Convert boolean array to uint8 (0 or 255)
        img_array = (mask_array.astype(np.uint8)) * 255
        filepath = os.path.join(self.temp_dir_path, filename)
        cv2.imwrite(filepath, img_array)
        # print(f"Created mask: {filepath} with shape {img_array.shape}") # Debug print

    def test_perfect_match(self):
        """Test case where generated masks perfectly match binary masks."""
        shape = (10, 10)
        mask1_data = np.ones(shape, dtype=bool)
        mask2_data = np.zeros(shape, dtype=bool)
        mask3_data = np.array([[True, False], [False, True]], dtype=bool)

        masks_input = [
            {'segmentation': mask1_data},
            {'segmentation': mask2_data},
            {'segmentation': mask3_data}
        ]

        self._create_binary_mask('mask_0.png', mask1_data)
        self._create_binary_mask('mask_1.png', mask2_data)
        self._create_binary_mask('mask_2.png', mask3_data) # Ensure shape matches mask3_data

        accuracy = calculate_accuracy(masks_input, self.temp_dir_path)
        # IoU for mask1 = 1.0, mask2 = NaN (0/0), mask3 = 1.0
        # Original code average: (1.0 + NaN + 1.0) / 3 = NaN
        # Let's adjust the test based on the refined understanding of 0/0 case.
        # If 0/0 is treated as 1 (perfect match for empty): (1+1+1)/3 = 1.0
        # If 0/0 is treated as NaN (original code): (1+NaN+1)/3 = NaN
        # Let's test for NaN as per original code's likely behavior.
        self.assertTrue(math.isnan(accuracy), f"Expected NaN, got {accuracy}")

        # --- Rerun with 0/0 treated as 1.0 for comparison ---
        # (Requires modifying calculate_accuracy locally if needed)
        # If IoU for 0/0 was 1.0:
        # self.assertAlmostEqual(accuracy, 1.0)


    def test_no_match(self):
        """Test case where generated masks have no overlap with binary masks."""
        shape = (2, 2)
        mask1_data = np.array([[True, True], [False, False]], dtype=bool) # Gen: Top row
        mask2_data = np.array([[True, False], [True, False]], dtype=bool) # Gen: Left col

        masks_input = [
            {'segmentation': mask1_data},
            {'segmentation': mask2_data}
        ]

        # Binary masks with no overlap
        binary1_data = np.array([[False, False], [True, True]], dtype=bool) # Bin: Bottom row
        binary2_data = np.array([[False, True], [False, True]], dtype=bool) # Bin: Right col

        self._create_binary_mask('mask_0.png', binary1_data)
        self._create_binary_mask('mask_1.png', binary2_data)

        accuracy = calculate_accuracy(masks_input, self.temp_dir_path)
        # IoU1 = 0/4 = 0. IoU2 = 0/4 = 0. Average = (0+0)/2 = 0.
        self.assertAlmostEqual(accuracy, 0.0)

    def test_partial_match(self):
        """Test case with partial overlap between masks."""
        shape = (2, 2)
        # Generated masks
        gen1 = np.array([[True, True], [False, False]], dtype=bool) # Area 2